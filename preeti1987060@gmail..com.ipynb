{
  "nbformat": 4,
  "nbformat_minor": 0,
  "metadata": {
    "colab": {
      "name": "nature images classification_transferlearning.ipynb",
      "provenance": [],
      "collapsed_sections": []
    },
    "kernelspec": {
      "name": "python3",
      "display_name": "Python 3"
    },
    "language_info": {
      "name": "python"
    }
  },
  "cells": [
    {
      "cell_type": "code",
      "metadata": {
        "colab": {
          "base_uri": "https://localhost:8080/"
        },
        "id": "14QbOAzR6p_-",
        "outputId": "c06a86ef-ef0d-4880-8d59-bc0ce80cf34a"
      },
      "source": [
        "from google.colab import drive\n",
        "drive.mount('/content/drive')\n"
      ],
      "execution_count": null,
      "outputs": [
        {
          "output_type": "stream",
          "text": [
            "Mounted at /content/drive\n"
          ],
          "name": "stdout"
        }
      ]
    },
    {
      "cell_type": "code",
      "metadata": {
        "colab": {
          "base_uri": "https://localhost:8080/"
        },
        "id": "bSovHofp6zol",
        "outputId": "fc7c9e86-b576-4459-f652-bd015e0d3147"
      },
      "source": [
        "cd drive/My Drive/sample datasets\n"
      ],
      "execution_count": null,
      "outputs": [
        {
          "output_type": "stream",
          "text": [
            "/content/drive/My Drive/sample datasets\n"
          ],
          "name": "stdout"
        }
      ]
    },
    {
      "cell_type": "code",
      "metadata": {
        "colab": {
          "base_uri": "https://localhost:8080/"
        },
        "id": "xuMYEaMFGI4i",
        "outputId": "ee95b6c4-7893-4cc2-c6f6-16c8b7d82339"
      },
      "source": [
        "%ls"
      ],
      "execution_count": null,
      "outputs": [
        {
          "output_type": "stream",
          "text": [
            "data.csv  \u001b[0m\u001b[01;34mnature_images\u001b[0m/  nature_images.zip\n"
          ],
          "name": "stdout"
        }
      ]
    },
    {
      "cell_type": "code",
      "metadata": {
        "colab": {
          "base_uri": "https://localhost:8080/"
        },
        "id": "G7rqYFxqGLjI",
        "outputId": "6efc39a9-6f07-4301-a6a7-4a8f365ba2bf"
      },
      "source": [
        "!unzip nature_images.zip"
      ],
      "execution_count": null,
      "outputs": [
        {
          "output_type": "stream",
          "text": [
            "Archive:  nature_images.zip\n",
            "^C\n"
          ],
          "name": "stdout"
        }
      ]
    },
    {
      "cell_type": "code",
      "metadata": {
        "colab": {
          "base_uri": "https://localhost:8080/"
        },
        "id": "TOv7Gno1LjTY",
        "outputId": "8de048a5-97c1-4ead-b769-1bd7f69b2701"
      },
      "source": [
        "cd /content/drive/My Drive/sample datasets/nature_images/train\n"
      ],
      "execution_count": null,
      "outputs": [
        {
          "output_type": "stream",
          "text": [
            "/content/drive/My Drive/sample datasets/nature_images/train\n"
          ],
          "name": "stdout"
        }
      ]
    },
    {
      "cell_type": "code",
      "metadata": {
        "colab": {
          "base_uri": "https://localhost:8080/"
        },
        "id": "0-VLexmiLp9t",
        "outputId": "527cbd8c-2abe-4160-9d4d-ef8dce58a5d4"
      },
      "source": [
        "%ls"
      ],
      "execution_count": null,
      "outputs": [
        {
          "output_type": "stream",
          "text": [
            "\u001b[0m\u001b[01;34mbuildings\u001b[0m/  \u001b[01;34mforest\u001b[0m/  \u001b[01;34mglacier\u001b[0m/  \u001b[01;34mmountain\u001b[0m/  \u001b[01;34msea\u001b[0m/  \u001b[01;34mstreet\u001b[0m/\n"
          ],
          "name": "stdout"
        }
      ]
    },
    {
      "cell_type": "code",
      "metadata": {
        "colab": {
          "base_uri": "https://localhost:8080/"
        },
        "id": "s9hXwmG9JjJK",
        "outputId": "ace5bc74-1276-4632-e8e1-79aa716e5c30"
      },
      "source": [
        "import tensorflow as tf\n",
        "#let's create our data generator \n",
        "image_generator = tf.keras.preprocessing.image.ImageDataGenerator()\n",
        "test_path = '/content/drive/My Drive/sample datasets/nature_images/test'\n",
        "train_path = '/content/drive/My Drive/sample datasets/nature_images/train'\n",
        "image_size = 150\n",
        "train_generator = image_generator.flow_from_directory(\n",
        "        train_path,\n",
        "        target_size=(image_size, image_size),\n",
        "        batch_size=128,\n",
        "        class_mode='binary')\n",
        "val_generator = image_generator.flow_from_directory(\n",
        "        test_path,\n",
        "        target_size=(image_size, image_size),\n",
        "        batch_size=128,\n",
        "        class_mode='binary')\n"
      ],
      "execution_count": null,
      "outputs": [
        {
          "output_type": "stream",
          "text": [
            "Found 14034 images belonging to 6 classes.\n",
            "Found 3000 images belonging to 6 classes.\n"
          ],
          "name": "stdout"
        }
      ]
    },
    {
      "cell_type": "code",
      "metadata": {
        "id": "77kPiqtFL7CR"
      },
      "source": [
        "from tensorflow.keras.applications.resnet50 import preprocess_input \n",
        "image_generator_resnet50 = tf.keras.preprocessing.image.ImageDataGenerator(preprocessing_function=preprocess_input)\n"
      ],
      "execution_count": null,
      "outputs": []
    },
    {
      "cell_type": "code",
      "metadata": {
        "colab": {
          "base_uri": "https://localhost:8080/"
        },
        "id": "sxBMDVrCjfBm",
        "outputId": "d2964de1-c40e-41a2-e1fa-856ace8c3121"
      },
      "source": [
        "train_generator_resnet50 = image_generator_resnet50.flow_from_directory(\n",
        "        train_path,\n",
        "        target_size=(image_size, image_size),\n",
        "        batch_size=128,\n",
        "        class_mode='categorical')\n",
        "val_generator_resnet50 = image_generator_resnet50.flow_from_directory(\n",
        "        test_path,\n",
        "        target_size=(image_size, image_size),\n",
        "        batch_size=128,\n",
        "        class_mode='categorical')\n"
      ],
      "execution_count": null,
      "outputs": [
        {
          "output_type": "stream",
          "text": [
            "Found 14034 images belonging to 6 classes.\n",
            "Found 3000 images belonging to 6 classes.\n"
          ],
          "name": "stdout"
        }
      ]
    },
    {
      "cell_type": "code",
      "metadata": {
        "colab": {
          "base_uri": "https://localhost:8080/"
        },
        "id": "Qb59l1-iOZrg",
        "outputId": "79e9d7ad-8888-4476-d616-896d2a4402a3"
      },
      "source": [
        "model_resnet50 = tf.keras.Sequential()\n",
        "model_resnet50.add(tf.keras.applications.ResNet50(include_top = False, pooling = 'avg', weights = 'imagenet'))\n",
        "model_resnet50.add(tf.keras.layers.Dense(6, activation = 'softmax'))\n",
        "model_resnet50.layers[0].trainable = False\n",
        "model_resnet50.summary()\n"
      ],
      "execution_count": null,
      "outputs": [
        {
          "output_type": "stream",
          "text": [
            "Downloading data from https://storage.googleapis.com/tensorflow/keras-applications/resnet/resnet50_weights_tf_dim_ordering_tf_kernels_notop.h5\n",
            "94773248/94765736 [==============================] - 1s 0us/step\n",
            "Model: \"sequential\"\n",
            "_________________________________________________________________\n",
            "Layer (type)                 Output Shape              Param #   \n",
            "=================================================================\n",
            "resnet50 (Functional)        (None, 2048)              23587712  \n",
            "_________________________________________________________________\n",
            "dense (Dense)                (None, 6)                 12294     \n",
            "=================================================================\n",
            "Total params: 23,600,006\n",
            "Trainable params: 12,294\n",
            "Non-trainable params: 23,587,712\n",
            "_________________________________________________________________\n"
          ],
          "name": "stdout"
        }
      ]
    },
    {
      "cell_type": "code",
      "metadata": {
        "id": "96ttdBGgy55k"
      },
      "source": [
        "number_of_epochs = 5           #Reducing the learning rate every 2 epochs\n",
        "def scheduler(epoch, lr):\n",
        "    if epoch % 2 ==0:\n",
        "        return lr*tf.math.exp(-0.1)\n",
        "    else:\n",
        "        return lr\n",
        "\n",
        "lr_schedule= tf.keras.callbacks.LearningRateScheduler(\n",
        "    scheduler, verbose=2\n",
        ")\n"
      ],
      "execution_count": null,
      "outputs": []
    },
    {
      "cell_type": "code",
      "metadata": {
        "colab": {
          "base_uri": "https://localhost:8080/"
        },
        "id": "2B2-TSV3kDzz",
        "outputId": "6676dd92-009a-4b61-e900-703bf6ee0beb"
      },
      "source": [
        "model_resnet50.compile(optimizer = 'adam', loss = \"categorical_crossentropy\", metrics=[\"accuracy\"])\n",
        "history_resnet50 = model_resnet50.fit_generator(\n",
        "        train_generator_resnet50,\n",
        "        steps_per_epoch=len(train_generator_resnet50),\n",
        "        epochs=5, validation_data = val_generator_resnet50,callbacks=[lr_schedule]\n",
        "        )"
      ],
      "execution_count": null,
      "outputs": [
        {
          "output_type": "stream",
          "text": [
            "/usr/local/lib/python3.7/dist-packages/tensorflow/python/keras/engine/training.py:1940: UserWarning: `Model.fit_generator` is deprecated and will be removed in a future version. Please use `Model.fit`, which supports generators.\n",
            "  warnings.warn('`Model.fit_generator` is deprecated and '\n"
          ],
          "name": "stderr"
        },
        {
          "output_type": "stream",
          "text": [
            "Epoch 1/5\n",
            "\n",
            "Epoch 00001: LearningRateScheduler reducing learning rate to tf.Tensor(0.00090483745, shape=(), dtype=float32).\n",
            "110/110 [==============================] - 3826s 35s/step - loss: 0.2519 - accuracy: 0.9106 - val_loss: 0.2179 - val_accuracy: 0.9177\n",
            "Epoch 2/5\n",
            "\n",
            "Epoch 00002: LearningRateScheduler reducing learning rate to 0.0009048374486155808.\n",
            "110/110 [==============================] - 1223s 11s/step - loss: 0.1891 - accuracy: 0.9332 - val_loss: 0.2084 - val_accuracy: 0.9223\n",
            "Epoch 3/5\n",
            "\n",
            "Epoch 00003: LearningRateScheduler reducing learning rate to tf.Tensor(0.0008187308, shape=(), dtype=float32).\n",
            "110/110 [==============================] - 1227s 11s/step - loss: 0.1656 - accuracy: 0.9416 - val_loss: 0.2094 - val_accuracy: 0.9250\n",
            "Epoch 4/5\n",
            "\n",
            "Epoch 00004: LearningRateScheduler reducing learning rate to 0.0008187307976186275.\n",
            "110/110 [==============================] - 1260s 11s/step - loss: 0.1505 - accuracy: 0.9476 - val_loss: 0.1960 - val_accuracy: 0.9300\n",
            "Epoch 5/5\n",
            "\n",
            "Epoch 00005: LearningRateScheduler reducing learning rate to tf.Tensor(0.0007408183, shape=(), dtype=float32).\n",
            "110/110 [==============================] - ETA: 0s - loss: 0.1374 - accuracy: 0.9510"
          ],
          "name": "stdout"
        }
      ]
    },
    {
      "cell_type": "code",
      "metadata": {
        "id": "OS3Br22mrmn5",
        "colab": {
          "base_uri": "https://localhost:8080/",
          "height": 573
        },
        "outputId": "16570a8f-b37e-4da4-d807-8c63c12c584d"
      },
      "source": [
        "import matplotlib.pyplot as plt\n",
        "% matplotlib inline\n",
        "plt.plot(history_resnet50.history['accuracy'])\n",
        "plt.plot(history_resnet50.history['val_accuracy'])\n",
        "plt.title('model accuracy')\n",
        "plt.ylabel('accuracy')\n",
        "plt.xlabel('epoch')\n",
        "plt.legend(['Train', 'Validation'], loc='upper left')\n",
        "plt.show()\n",
        "# summarize history for loss\n",
        "plt.plot(history_resnet50.history['loss'])\n",
        "plt.plot(history_resnet50.history['val_loss'])\n",
        "plt.title('model loss')\n",
        "plt.ylabel('loss')\n",
        "plt.xlabel('epoch')\n",
        "plt.legend(['Train', 'Validation'], loc='upper left')\n",
        "plt.show()\n"
      ],
      "execution_count": null,
      "outputs": [
        {
          "output_type": "display_data",
          "data": {
            "image/png": "[encoded data removed]",
            "text/plain": [
              "<Figure size 432x288 with 1 Axes>"
            ]
          },
          "metadata": {
            "tags": [],
            "needs_background": "light"
          }
        },
        {
          "output_type": "display_data",
          "data": {
            "image/png": "[encoded data removed]",
            "text/plain": [
              "<Figure size 432x288 with 1 Axes>"
            ]
          },
          "metadata": {
            "tags": [],
            "needs_background": "light"
          }
        }
      ]
    },
    {
      "cell_type": "code",
      "metadata": {
        "id": "qml__9NxikfE"
      },
      "source": [
        ""
      ],
      "execution_count": null,
      "outputs": []
    }
  ]
}